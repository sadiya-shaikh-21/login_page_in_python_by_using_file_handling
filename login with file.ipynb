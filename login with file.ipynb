{
 "cells": [
  {
   "cell_type": "code",
   "execution_count": 1,
   "metadata": {},
   "outputs": [
    {
     "name": "stdout",
     "output_type": "stream",
     "text": [
      "Do you have an account?/yes/nono\n",
      "Enter username: sss\n",
      "Enter password: 111\n",
      "Enter confirm password: 111\n",
      "User was successfully registered\n",
      "Do u want to continue y/nY\n",
      "Enter username: sss\n",
      "Enter password: 111\n",
      "Welcome sss\n"
     ]
    }
   ],
   "source": [
    "import os.path\n",
    "\n",
    "if not os.path.exists('register.txt'):\n",
    "    file = open('register.txt', 'w')\n",
    "    file.close()\n",
    "\n",
    "\n",
    "def register():\n",
    "    username = input('Enter username: ')\n",
    "    if username in open('register.txt', 'r').read():\n",
    "        print('Username already exists')\n",
    "        exit()\n",
    "    password = input('Enter password: ')\n",
    "    c_password = input('Enter confirm password: ')\n",
    "    if password != c_password:\n",
    "        print('Sorry password not match')\n",
    "        exit()\n",
    "    else:\n",
    "        handle = open('register.txt', 'a')\n",
    "        handle.write(username)\n",
    "        handle.write(' ')\n",
    "        handle.write(password)\n",
    "        handle.write('\\n')\n",
    "        handle.close()\n",
    "        print('User was successfully registered')\n",
    "        exit()\n",
    "    a=input(\"Do u want to continue y/n\").lower()\n",
    "    if a=='y':\n",
    "        login()\n",
    "    else:\n",
    "        exit()\n",
    "\n",
    "\n",
    "def login():\n",
    "    username = input('Enter username: ')\n",
    "    password = input('Enter password: ')\n",
    "    get_data = open('register.txt', 'r').readlines()\n",
    "    users_data = []\n",
    "    for user in get_data:\n",
    "        users_data.append(user.split())\n",
    "\n",
    "    total_user = len(users_data)\n",
    "    increment = 0\n",
    "    login_success = 0\n",
    "    while increment < total_user:\n",
    "        usernames = users_data[increment][0]\n",
    "        passwords = users_data[increment][1]\n",
    "        if username == usernames and password == passwords:\n",
    "            login_success = 1\n",
    "\n",
    "        increment += 1\n",
    "\n",
    "    if login_success == 1:\n",
    "        print('Welcome ' + username)\n",
    "    else:\n",
    "        print('invalid username & password')\n",
    "\n",
    "\n",
    "question = input('Do you have an account?/yes/no')\n",
    "\n",
    "if question == 'yes':\n",
    "    login()\n",
    "else:\n",
    "    register()"
   ]
  },
  {
   "cell_type": "code",
   "execution_count": null,
   "metadata": {},
   "outputs": [],
   "source": []
  },
  {
   "cell_type": "code",
   "execution_count": null,
   "metadata": {},
   "outputs": [],
   "source": []
  }
 ],
 "metadata": {
  "kernelspec": {
   "display_name": "Python 3",
   "language": "python",
   "name": "python3"
  },
  "language_info": {
   "codemirror_mode": {
    "name": "ipython",
    "version": 3
   },
   "file_extension": ".py",
   "mimetype": "text/x-python",
   "name": "python",
   "nbconvert_exporter": "python",
   "pygments_lexer": "ipython3",
   "version": "3.8.3"
  }
 },
 "nbformat": 4,
 "nbformat_minor": 4
}
